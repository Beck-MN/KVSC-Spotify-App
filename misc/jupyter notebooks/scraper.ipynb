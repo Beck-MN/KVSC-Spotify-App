{
 "cells": [
  {
   "cell_type": "code",
   "execution_count": 7,
   "metadata": {},
   "outputs": [
    {
     "name": "stdout",
     "output_type": "stream",
     "text": [
      "Wishy climbs to the tippy top of our latest weekly chart with their full-length debut, Triple Seven. And it’s another big, big week for chart debuts. The newest releases from Toro y Moi, Nilufer Yanya, MJ Lenderman, Hinds, Sarah Kinsley, Wunderhorse, Hamish Hawk, and Fat Dog all make their first appearances.\n"
     ]
    }
   ],
   "source": [
    "import pandas as pd\n",
    "import pprint\n",
    "import requests\n",
    "from bs4 import BeautifulSoup\n",
    "\n",
    "request_headers = {\n",
    "    'referer': 'https://www.kvsc.org/wp-content/themes/kvsc/css/style.css?ver=6.6.1',\n",
    "    'accept-language': 'en-US,en;q=0.9',\n",
    "    'sec-ch-ua': '\"Not/A)Brand\";v=\"8\", \"Chromium\";v=\"126\", \"Opera GX\";v=\"112\"',\n",
    "    'sec-ch-ua-platform': \"Windows\",\n",
    "    'sec-ch-ua-platform-version': '\"10.0.0\"',\n",
    "    'sec-ch-viewport-width': '792',\n",
    "    'user-agent': 'Mozilla/5.0 (Windows NT 10.0; Win64; x64) AppleWebKit/537.36 (KHTML, like Gecko) Chrome/125.0.0.0 Safari/537.36'\n",
    "  }\n",
    "\n",
    "response = requests.get('https://www.kvsc.org/music/nacc-charts/', headers=request_headers)\n",
    "\n",
    "soup = BeautifulSoup(response.text, 'html.parser')\n",
    "body = soup.find('body')\n",
    "div = body.find('div', class_='content clearfix')\n",
    "p1 = div.find('p')\n",
    "p2 = p1.find_next('p')\n",
    "\n",
    "print(p2.text)\n"
   ]
  }
 ],
 "metadata": {
  "kernelspec": {
   "display_name": ".venv",
   "language": "python",
   "name": "python3"
  },
  "language_info": {
   "codemirror_mode": {
    "name": "ipython",
    "version": 3
   },
   "file_extension": ".py",
   "mimetype": "text/x-python",
   "name": "python",
   "nbconvert_exporter": "python",
   "pygments_lexer": "ipython3",
   "version": "3.11.9"
  }
 },
 "nbformat": 4,
 "nbformat_minor": 2
}
