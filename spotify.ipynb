{
 "cells": [
  {
   "cell_type": "code",
   "execution_count": 1,
   "metadata": {},
   "outputs": [],
   "source": [
    "import sys\n",
    "import pprint\n",
    "import spotipy\n",
    "import pandas as pd\n",
    "import seaborn as sns\n",
    "import matplotlib.pyplot as plt\n",
    "from spotipy.oauth2 import SpotifyClientCredentials\n",
    "from spotipy.oauth2 import SpotifyOAuth\n",
    "from sklearn.cluster import KMeans\n",
    "\n",
    "# Connect to spotify an give proper permissions for playlist customization\n",
    "sp = spotipy.Spotify(auth_manager=SpotifyOAuth(client_id=\"7444209f2bc34f7ba86b8ce6d7fe5ab7\",client_secret=\"c2b5526ba53c46cdb770351224ce9612\", redirect_uri=\"http://localhost:8080\",scope=\"user-top-read,user-library-read,user-read-recently-played,playlist-modify-private,playlist-modify-public\"))\n",
    "\n",
    "# Organize NACC chart into needed columns and group by category\n",
    "keep = ['Artist','Recording','Label']\n",
    "df = pd.read_csv('NACC.csv',usecols=keep)\n",
    "albums = df.groupby('Recording')\n",
    "\n",
    "# Establish main user (only me for now)\n",
    "user_id = sp.me()['id']\n",
    "\n",
    "# Create Playlist \n",
    "playlist = sp.user_playlist_create(user_id, 'NACC Top 30', 'Test')\n",
    "\n",
    "# Go through each artist on NACC chart, search via Spotipy and add each song off the top result\n",
    "for index, row in df.iterrows():\n",
    "\n",
    "    # Get album name\n",
    "    search = row['Recording']\n",
    "\n",
    "    # search spotify for album\n",
    "    result = sp.search(q='album:' + search,limit=1,type='album',market='US')\n",
    "    search_result = result['albums']['items']\n",
    "    print(search_result[0]['name'],search_result[0]['uri'])\n",
    "\n",
    "    # Organize search results for playlist\n",
    "    tracks = sp.album_tracks(search_result[0]['id'])\n",
    "    songs = tracks['items']\n",
    "\n",
    "    # Add songs to playlist\n",
    "    for track in songs:\n",
    "        sp.playlist_add_items(playlist_id=playlist['id'],items=[track['id']])\n",
    "    \n",
    "\n",
    "\n",
    "\n",
    "\n",
    "\n"
   ]
  }
 ],
 "metadata": {
  "kernelspec": {
   "display_name": "KVSC-Spotify-App",
   "language": "python",
   "name": "python3"
  },
  "language_info": {
   "codemirror_mode": {
    "name": "ipython",
    "version": 3
   },
   "file_extension": ".py",
   "mimetype": "text/x-python",
   "name": "python",
   "nbconvert_exporter": "python",
   "pygments_lexer": "ipython3",
   "version": "3.11.9"
  }
 },
 "nbformat": 4,
 "nbformat_minor": 2
}
